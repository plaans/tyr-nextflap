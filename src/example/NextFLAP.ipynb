{
  "nbformat": 4,
  "nbformat_minor": 0,
  "metadata": {
    "colab": {
      "provenance": []
    },
    "kernelspec": {
      "name": "python3",
      "display_name": "Python 3"
    },
    "language_info": {
      "name": "python"
    }
  },
  "cells": [
    {
      "cell_type": "markdown",
      "source": [
        "## NextFLAP Example\n",
        "\n",
        "This python notebook shows the usage of NextFLAP within unified planning library.\n",
        "\n",
        "[![Open In GitHub](https://img.shields.io/badge/see-Github-579aca?logo=github)](https://github.com/aiplan4eu/up-nextflap/blob/master/example/NextFLAP.ipynb)\n",
        "[![Open In Colab](https://colab.research.google.com/assets/colab-badge.svg)](https://colab.research.google.com/github/aiplan4eu/up-nextflap/blob/master/example/NextFLAP.ipynb)\n",
        "\n",
        "\n",
        "In particular we will go through the following steps:\n",
        "\n",
        " - create a numeric and temporal planning problem;\n",
        " - call the planner to solve the problem;\n"
      ],
      "metadata": {
        "id": "X6YPCzYLgAw7"
      }
    },
    {
      "cell_type": "markdown",
      "source": [
        "# Setup\n",
        "\n",
        "First, we install up_nextflap library and its dependencies from PyPi. Here, we use the `--pre` flag to use the latest development build."
      ],
      "metadata": {
        "id": "ZlSw4n1tiyXU"
      }
    },
    {
      "cell_type": "code",
      "execution_count": null,
      "metadata": {
        "id": "4uTsVrxnfjWv"
      },
      "outputs": [],
      "source": [
        "!pip install --pre up_nextflap"
      ]
    },
    {
      "cell_type": "markdown",
      "source": [
        "### Imports\n",
        "The basic imports we need for this demo are abstracted in the `shortcuts` package."
      ],
      "metadata": {
        "id": "RE5enE0ajNkN"
      }
    },
    {
      "cell_type": "code",
      "source": [
        "import unified_planning as up\n",
        "from unified_planning.engines import PlanGenerationResultStatus\n",
        "from unified_planning.shortcuts import (Problem, UserType, Object, Variable,\n",
        "                                        BoolType, RealType,\n",
        "                                        StartTiming, EndTiming, ClosedTimeInterval, Timing,\n",
        "                                        Equals, GE, GT, LT, LE, Not,\n",
        "                                        Plus, Minus, Times, Div,\n",
        "                                        Forall)\n",
        "from unified_planning.model.timing import Timepoint, TimepointKind"
      ],
      "metadata": {
        "id": "pGKu9gWNjw7N"
      },
      "execution_count": 2,
      "outputs": []
    },
    {
      "cell_type": "markdown",
      "source": [
        "##Importing and registering NextFLAP\n",
        "\n",
        "We register NextFLAP as a planning engine on the UPF platform:"
      ],
      "metadata": {
        "id": "qMA-y9-oj6KX"
      }
    },
    {
      "cell_type": "code",
      "source": [
        "from up_nextflap import NextFLAPImpl\n",
        "\n",
        "env = up.environment.get_environment()\n",
        "env.factory.add_engine('nextflap', __name__, 'NextFLAPImpl')"
      ],
      "metadata": {
        "id": "lAyFiYaIkJpx"
      },
      "execution_count": 3,
      "outputs": []
    },
    {
      "cell_type": "markdown",
      "source": [
        "### Problem representation\n",
        "\n",
        "In this example, we are going to model a problem in which a robot has to fill several water tanks up to a certain limit.\n",
        "\n",
        "#### Types\n",
        "\n",
        "The first thing to do is to introduce the required types. In our case, we will define the types `robot`, `location` and `jar`:"
      ],
      "metadata": {
        "id": "7DvSp9Ifkp83"
      }
    },
    {
      "cell_type": "code",
      "source": [
        "robot = UserType('robot')\n",
        "location = UserType('location')\n",
        "jar = UserType('jar')"
      ],
      "metadata": {
        "id": "BEKL_G7SllLT"
      },
      "execution_count": 4,
      "outputs": []
    },
    {
      "cell_type": "markdown",
      "source": [
        "## Predicates\n",
        "\n",
        "Now we define the problem and the predicates (boolean fluents) that we need:\n",
        "*  `at-robot`: with two parameters (`robot` and `location`), it models the position of the robot.\n",
        "*  `at-jar`: with two parameters (`jar` and `location`), it models the position of a jar.\n",
        "* `at-tap`: with one parameter (`location`), indicates the locations where there is a tap (necessary to fill the jar).\n",
        "*  `at-tank`: with one parameter (`location`), it models the locations where there is a water tank.\n",
        "*  `at-station`: with one parameter (`location`), it models the locations that have a charging station. At these stations, the robots can recharge their batteries.\n",
        "*  `attached-to-station`: with one parameter (`robot`), it indicates when a robot is docked to a station. The battery can only be recharged while the robot is docked.\n",
        "*  `empty`: with one parameter (`robot`), indicates that the robot does not carry a jar.\n",
        "*  `has`: with two parameters (`robot` and `jar`), indicates that the robot is carrying that jar. A robot can only carry one jar at a time.\n",
        "*  `using-jar`: with one parameter (`robot`), indicates that the robot is using its jar. It is used to prevent the robot from filling and emptying its jar at the same time.\n",
        "*  `using-tap`: with one parameter (`location`), indicates that the tap at that location is being used. It is needed to prevent multiple robots from using the same tap at the same time.\n",
        "*   `tank_ready`: with one parameter (`location`), it represents that the water tank located at this location has reached the desired level of water. Once the tank is ready, its level can no longer be modified."
      ],
      "metadata": {
        "id": "JUqwUJeDl8N9"
      }
    },
    {
      "cell_type": "code",
      "source": [
        "p = Problem('WaterTanks')\n",
        "\n",
        "# Boolean fluents\n",
        "def add_predicate(p, name, **kwargs):\n",
        "    predicate = up.model.Fluent(name, BoolType(), **kwargs)\n",
        "    return p.add_fluent(predicate, default_initial_value=False)\n",
        "\n",
        "at_robot = add_predicate(p, 'at-robot', r=robot, l=location)\n",
        "at_jar = add_predicate(p, 'at-jar', j=jar, l=location)\n",
        "at_tap = add_predicate(p, 'at-tap', l=location)\n",
        "at_tank = add_predicate(p, 'at-tank', l=location)\n",
        "at_station = add_predicate(p, 'at-station', l=location)\n",
        "attached_to_station = add_predicate(p, 'attached-to-station', r=robot)\n",
        "empty = add_predicate(p, 'empty', r=robot)\n",
        "has = add_predicate(p, 'has', r=robot, j=jar)\n",
        "using_jar = add_predicate(p, 'using-jar', r=robot)\n",
        "using_tap = add_predicate(p, 'using-tap', l=location)\n",
        "tank_ready = add_predicate(p, 'tank-ready', l=location)"
      ],
      "metadata": {
        "id": "r_I2EOwXigs4"
      },
      "execution_count": 5,
      "outputs": []
    },
    {
      "cell_type": "markdown",
      "source": [
        "## Numeric fluents\n",
        "\n",
        "Now we define the numeric fluents we need:\n",
        "*   `jar-level`: with one parameter (`jar`), it models the amount of water in the jar.\n",
        "*   `max-jar-level`: with one parameter (`jar`), it represents the maximum capacity of the jar.\n",
        "*   `tank-level`: with one parameter (`location`), it models the amount of water contained in the tank located at the given location.\n",
        "*   `tank-goal`: with one parameter (`location`), it represents the desired amount of water for the tank located at that location.\n",
        "*   `battery-level`: with one parameter (`robot`), it models the battery level of the robot (real number from 0% to 100%)."
      ],
      "metadata": {
        "id": "wALfnFNFiPi_"
      }
    },
    {
      "cell_type": "code",
      "source": [
        "def add_function(p, name, **kwargs):\n",
        "    return p.add_fluent(up.model.Fluent(name, RealType(), **kwargs))\n",
        "\n",
        "jar_level = add_function(p, 'jar-level', j=jar)\n",
        "max_jar_level = add_function(p, 'max-jar-level', j=jar)\n",
        "tank_level = add_function(p, 'tank-level', l=location)\n",
        "tank_goal = add_function(p, 'tank-goal', l=location)\n",
        "battery_level = add_function(p, 'battery-level', r=robot)"
      ],
      "metadata": {
        "id": "bXc1svq9m-JT"
      },
      "execution_count": 6,
      "outputs": []
    },
    {
      "cell_type": "markdown",
      "source": [
        "## Action `move`\n",
        "\n",
        "Using a `move` action, a robot can move from one location to another. This action only applies when the robot is not carrying any jars and consumes 10% of the battery."
      ],
      "metadata": {
        "id": "kIhJmbKRnbWm"
      }
    },
    {
      "cell_type": "code",
      "source": [
        "move = up.model.DurativeAction('move', r=robot, l1=location, l2=location)\n",
        "r, l1, l2 = move.parameters\n",
        "move.set_fixed_duration(10)\n",
        "move.add_condition(StartTiming(), Not(Equals(l1, l2)))\n",
        "move.add_condition(StartTiming(), GE(battery_level(r), 10))\n",
        "move.add_condition(StartTiming(), empty(r))\n",
        "move.add_condition(StartTiming(), at_robot(r, l1))\n",
        "move.add_effect(StartTiming(), at_robot(r, l1), False)\n",
        "move.add_effect(EndTiming(), at_robot(r, l2), True)\n",
        "move.add_decrease_effect(EndTiming(), battery_level(r), 10)\n",
        "p.add_action(move)"
      ],
      "metadata": {
        "id": "PCKza_xNn9Ls"
      },
      "execution_count": 7,
      "outputs": []
    },
    {
      "cell_type": "markdown",
      "source": [
        "## Action `move-with-jar`\n",
        "\n",
        "Similar to the previous one, but used when the robot transports a jar. The **duration of this action depends on the weight transported**, that is, on the amount of water the robot carries in its jar: `10 + jar-level(r)/10`. This action also consumes 10% of the battery."
      ],
      "metadata": {
        "id": "WKHrr3mfrVS5"
      }
    },
    {
      "cell_type": "code",
      "source": [
        "move_with_jar = up.model.DurativeAction('move-with-jar', r=robot, j=jar, l1=location, l2=location)\n",
        "r, j, l1, l2 = move_with_jar.parameters\n",
        "move_with_jar.set_fixed_duration(Plus(10, Div(jar_level(j), 10)))\n",
        "move_with_jar.add_condition(StartTiming(), Not(Equals(l1, l2)))\n",
        "move_with_jar.add_condition(StartTiming(), GE(battery_level(r), 10))\n",
        "move_with_jar.add_condition(StartTiming(), has(r, j))\n",
        "move_with_jar.add_condition(StartTiming(), at_robot(r, l1))\n",
        "move_with_jar.add_effect(StartTiming(), at_robot(r, l1), False)\n",
        "move_with_jar.add_effect(EndTiming(), at_robot(r, l2), True)\n",
        "move_with_jar.add_decrease_effect(EndTiming(), battery_level(r), 10)\n",
        "p.add_action(move_with_jar)"
      ],
      "metadata": {
        "id": "0eUYHHearmdc"
      },
      "execution_count": 8,
      "outputs": []
    },
    {
      "cell_type": "markdown",
      "source": [
        "## Action `take-jar`\n",
        "\n",
        "Using a `take-jar` action, an empty robot can pick up one of the jars. This action consumes 1% of the battery."
      ],
      "metadata": {
        "id": "xezcdWn4LWT-"
      }
    },
    {
      "cell_type": "code",
      "source": [
        "take_jar = up.model.DurativeAction('take-jar', r=robot, j=jar, l=location)\n",
        "r, j, l = take_jar.parameters\n",
        "take_jar.set_fixed_duration(1)\n",
        "take_jar.add_condition(StartTiming(), GE(battery_level(r), 1))\n",
        "take_jar.add_condition(ClosedTimeInterval(StartTiming(), EndTiming()), at_robot(r, l))\n",
        "take_jar.add_condition(StartTiming(), at_jar(j, l))\n",
        "take_jar.add_condition(StartTiming(), empty(r))\n",
        "take_jar.add_effect(StartTiming(), empty(r), False)\n",
        "take_jar.add_effect(StartTiming(), at_jar(j, l), False)\n",
        "take_jar.add_effect(EndTiming(), has(r, j), True)\n",
        "take_jar.add_decrease_effect(EndTiming(), battery_level(r), 1)\n",
        "p.add_action(take_jar)"
      ],
      "metadata": {
        "id": "uWUFFK6oLW9X"
      },
      "execution_count": 9,
      "outputs": []
    },
    {
      "cell_type": "markdown",
      "source": [
        "## Action `drop-jar`\n",
        "\n",
        "Using a `drop-jar` action, a robot can leave the jar it is carrying. This action consumes 1% of the battery."
      ],
      "metadata": {
        "id": "kmSLamOGL8DV"
      }
    },
    {
      "cell_type": "code",
      "source": [
        "drop_jar = up.model.DurativeAction('drop-jar', r=robot, j=jar, l=location)\n",
        "r, j, l = drop_jar.parameters\n",
        "drop_jar.set_fixed_duration(1)\n",
        "drop_jar.add_condition(StartTiming(), GE(battery_level(r), 1))\n",
        "drop_jar.add_condition(ClosedTimeInterval(StartTiming(), EndTiming()), at_robot(r, l))\n",
        "drop_jar.add_condition(StartTiming(), has(r, j))\n",
        "drop_jar.add_effect(StartTiming(), has(r, j), False)\n",
        "drop_jar.add_effect(EndTiming(), at_jar(j, l), True)\n",
        "drop_jar.add_effect(EndTiming(), empty(r), True)\n",
        "drop_jar.add_decrease_effect(EndTiming(), battery_level(r), 1)\n",
        "p.add_action(drop_jar)"
      ],
      "metadata": {
        "id": "W2j1X45xL8Yr"
      },
      "execution_count": 10,
      "outputs": []
    },
    {
      "cell_type": "markdown",
      "source": [
        "## Action `empty-jar`\n",
        "\n",
        "Using an `empty-jar` action, a robot can pour all the water it carries in its jar into a tank. The duration of this action is directly proportional to the amount of water poured. This action leaves the jar empty while increasing the level of the tank with the amount poured. This action consumes 5% battery."
      ],
      "metadata": {
        "id": "fe6t6U-xxsBm"
      }
    },
    {
      "cell_type": "code",
      "source": [
        "empty_jar = up.model.DurativeAction('empty-jar', r=robot, j=jar, l=location)\n",
        "r, j, l = empty_jar.parameters\n",
        "empty_jar.set_fixed_duration(jar_level(j))\n",
        "empty_jar.add_condition(StartTiming(), GE(battery_level(r), 5))\n",
        "empty_jar.add_condition(StartTiming(), LE(Plus(jar_level(j), tank_level(l)), 100))\n",
        "empty_jar.add_condition(StartTiming(), Not(using_jar(r)))\n",
        "empty_jar.add_condition(StartTiming(), at_tank(l))\n",
        "empty_jar.add_condition(ClosedTimeInterval(StartTiming(), EndTiming()), at_robot(r, l))\n",
        "empty_jar.add_condition(ClosedTimeInterval(StartTiming(), EndTiming()), Not(tank_ready(l)))\n",
        "empty_jar.add_condition(ClosedTimeInterval(StartTiming(), EndTiming()), has(r, j))\n",
        "empty_jar.add_effect(StartTiming(), using_jar(r), True)\n",
        "empty_jar.add_decrease_effect(EndTiming(), battery_level(r), 5)\n",
        "empty_jar.add_increase_effect(EndTiming(), tank_level(l), jar_level(j))\n",
        "empty_jar.add_effect(EndTiming(), jar_level(j), 0)\n",
        "empty_jar.add_effect(EndTiming(), using_jar(r), False)\n",
        "p.add_action(empty_jar)"
      ],
      "metadata": {
        "id": "5R3YGSkoMhNc"
      },
      "execution_count": 11,
      "outputs": []
    },
    {
      "cell_type": "markdown",
      "source": [
        "## Action `fill-jar`\n",
        "\n",
        "Using a `fill-jar` action, a robot can fill its jar. The third parameter of the action is a **numeric parameter**, which allows the planner to choose how much water to pour into the jar. The duration of this action is directly proportional to the amount of water poured. In any case, this action consumes 5% battery."
      ],
      "metadata": {
        "id": "M5Fd4uK_woCN"
      }
    },
    {
      "cell_type": "code",
      "source": [
        "fill_jar = up.model.DurativeAction('fill-jar', r=robot, j=jar, l=location, amount=RealType())\n",
        "r, j, l, amount = fill_jar.parameters\n",
        "fill_jar.set_fixed_duration(amount)\n",
        "fill_jar.add_condition(StartTiming(), GE(amount, 1))\n",
        "fill_jar.add_condition(StartTiming(), LE(amount, Minus(max_jar_level(j), jar_level(j))))\n",
        "fill_jar.add_condition(StartTiming(), GE(battery_level(r), 5))\n",
        "fill_jar.add_condition(StartTiming(), Not(using_tap(l)))\n",
        "fill_jar.add_condition(StartTiming(), Not(using_jar(r)))\n",
        "fill_jar.add_condition(StartTiming(), at_tap(l))\n",
        "fill_jar.add_condition(ClosedTimeInterval(StartTiming(), EndTiming()), at_robot(r, l))\n",
        "fill_jar.add_condition(ClosedTimeInterval(StartTiming(), EndTiming()), has(r, j))\n",
        "fill_jar.add_effect(StartTiming(), using_tap(l), True)\n",
        "fill_jar.add_effect(StartTiming(), using_jar(r), True)\n",
        "fill_jar.add_decrease_effect(EndTiming(), battery_level(r), 5)\n",
        "fill_jar.add_increase_effect(EndTiming(), jar_level(j), amount)\n",
        "fill_jar.add_effect(EndTiming(), using_tap(l), False)\n",
        "fill_jar.add_effect(EndTiming(), using_jar(r), False)\n",
        "p.add_action(fill_jar)"
      ],
      "metadata": {
        "id": "ok7Ut1JfMzEr"
      },
      "execution_count": 12,
      "outputs": []
    },
    {
      "cell_type": "markdown",
      "source": [
        "## Action `close-tank`\n",
        "\n",
        "This action closes a tank when the water it contains has reached the desired level. Once closed, its water level can no longer be modified."
      ],
      "metadata": {
        "id": "su51WK4WywRP"
      }
    },
    {
      "cell_type": "code",
      "source": [
        "close_tank = up.model.DurativeAction('close-tank', l=location)\n",
        "l = close_tank.parameter('l')\n",
        "close_tank.set_fixed_duration(1)\n",
        "close_tank.add_condition(StartTiming(), at_tank(l))\n",
        "close_tank.add_condition(StartTiming(), Equals(tank_level(l), tank_goal(l)))\n",
        "close_tank.add_effect(StartTiming(), tank_ready(l), True)\n",
        "p.add_action(close_tank)"
      ],
      "metadata": {
        "id": "xX8yJzXrNHLY"
      },
      "execution_count": 13,
      "outputs": []
    },
    {
      "cell_type": "markdown",
      "source": [
        "## Action `attach`\n",
        "\n",
        "Using an `attach` action, a robot can dock to a charging station. To do this, it is a condition that the station is free (it can only be used by one robot at the same time). We model this using a **Forall** expression.\n",
        "The planner is in charge of deciding how long the robot will remain anchored to the station (between 1 and 100 minutes). This is represented by a **duration interval**."
      ],
      "metadata": {
        "id": "ipXiBPAZsyC1"
      }
    },
    {
      "cell_type": "code",
      "source": [
        "attach = up.model.DurativeAction('attach', r=robot, l=location)\n",
        "r, l = attach.parameters\n",
        "rob = Variable('rob', robot)\n",
        "attach.set_closed_duration_interval(1, 100)\n",
        "attach.add_condition(StartTiming(), at_station(l))\n",
        "attach.add_condition(StartTiming(), Forall(Not(attached_to_station(rob)), rob))\n",
        "attach.add_condition(ClosedTimeInterval(StartTiming(), EndTiming()), at_robot(r, l))\n",
        "attach.add_effect(StartTiming(), attached_to_station(r), True)\n",
        "attach.add_effect(EndTiming(), attached_to_station(r), False)\n",
        "p.add_action(attach)"
      ],
      "metadata": {
        "id": "rLNIuCvKs23B"
      },
      "execution_count": 14,
      "outputs": []
    },
    {
      "cell_type": "markdown",
      "source": [
        "## Action `charge`\n",
        "\n",
        "Using a `charge` action, a robot can recharge its battery. The third parameter of the action is a **numeric parameter**, which allows the planner to choose the percentage of battery to recharge.\n",
        "\n",
        "The duration of this action is a **non-linear expression**, which tries to model the fact that batteries charge slower as they get full."
      ],
      "metadata": {
        "id": "MY7E99NHump2"
      }
    },
    {
      "cell_type": "code",
      "source": [
        "charge = up.model.DurativeAction('charge', r=robot, l=location, percentage=RealType())\n",
        "r, l, percentage = charge.parameters\n",
        "charge.set_fixed_duration(Plus(percentage, Div(Times(battery_level(r),\n",
        "                          Times(battery_level(r), percentage)), 5000)))\n",
        "charge.add_condition(ClosedTimeInterval(StartTiming(), EndTiming()), attached_to_station(r))\n",
        "charge.add_condition(ClosedTimeInterval(StartTiming(), EndTiming()), at_robot(r, l))\n",
        "charge.add_condition(StartTiming(), LT(battery_level(r), 100))\n",
        "charge.add_condition(StartTiming(), LE(percentage, Minus(100, battery_level(r))))\n",
        "charge.add_condition(StartTiming(), GT(percentage, 0))\n",
        "charge.add_increase_effect(EndTiming(), battery_level(r), percentage)\n",
        "p.add_action(charge)"
      ],
      "metadata": {
        "id": "qFu-_Pi-u_6G"
      },
      "execution_count": 15,
      "outputs": []
    },
    {
      "cell_type": "markdown",
      "source": [
        "## Objects\n",
        "\n",
        "We are now going to create an scenario with two robots (`r1` and `r2`), three locations (`a`, `b` and `c`) and two jars (`jar1` and `jar2`)."
      ],
      "metadata": {
        "id": "z1l5XYCozsrL"
      }
    },
    {
      "cell_type": "code",
      "source": [
        "a = p.add_object(Object('a', location))\n",
        "b = p.add_object(Object('b', location))\n",
        "c = p.add_object(Object('c', location))\n",
        "r1 = p.add_object(Object('r1', robot))\n",
        "r2 = p.add_object(Object('r2', robot))\n",
        "jar1 = p.add_object(Object('jar1', jar))\n",
        "jar2 = p.add_object(Object('jar2', jar))"
      ],
      "metadata": {
        "id": "3XvNMJF60Iff"
      },
      "execution_count": 16,
      "outputs": []
    },
    {
      "cell_type": "markdown",
      "source": [
        "## Initial state\n",
        "\n",
        "In our example problem, we will have a charging station at location `a`, two taps (at location `a` and `b`, respectively) and three water tanks (one at each location).\n",
        "\n",
        "The taps at `a` and `b` are initially in use, but will become available at times 100 and 200, respectively. We model this using TILs (**timed initial literals**).\n",
        "\n",
        "Robots `r1` and `r2` will initially be in location `a` and `c`, respectively, both with a battery level of 10%.\n",
        "\n",
        "`jar1` is empty and has a capacity of 20 liters. `jar2` already contains 10 liters of water and its capacity is 40 liters.\n",
        "\n",
        "Tank at location `a` is initially empty and must be filled up to 10 liters. Tank at `b` is also empty and must be filled up to 20 liters. Finally, Tank at `b` contains 10 liters and must be filled up to 20 liters."
      ],
      "metadata": {
        "id": "ZUQWiErC0U_5"
      }
    },
    {
      "cell_type": "code",
      "source": [
        "p.set_initial_value(at_robot(r1, a), True)\n",
        "p.set_initial_value(at_robot(r2, c), True)\n",
        "p.set_initial_value(empty(r1), True)\n",
        "p.set_initial_value(empty(r2), True)\n",
        "p.set_initial_value(battery_level(r1), 10)\n",
        "p.set_initial_value(battery_level(r2), 10)\n",
        "p.set_initial_value(at_jar(jar1, a), True)\n",
        "p.set_initial_value(at_jar(jar2, c), True)\n",
        "p.set_initial_value(jar_level(jar1), 0)\n",
        "p.set_initial_value(jar_level(jar2), 10)\n",
        "p.set_initial_value(max_jar_level(jar1), 20)\n",
        "p.set_initial_value(max_jar_level(jar2), 40)\n",
        "p.set_initial_value(at_station(a), True)\n",
        "p.set_initial_value(at_tap(a), True)\n",
        "p.set_initial_value(at_tap(b), True)\n",
        "p.set_initial_value(using_tap(a), True)\n",
        "p.set_initial_value(using_tap(b), True)\n",
        "p.add_timed_effect(Timing(100, Timepoint(TimepointKind.GLOBAL_START)), using_tap(a), False)\n",
        "p.add_timed_effect(Timing(200, Timepoint(TimepointKind.GLOBAL_START)), using_tap(b), False)\n",
        "p.set_initial_value(at_tank(a), True)\n",
        "p.set_initial_value(at_tank(b), True)\n",
        "p.set_initial_value(at_tank(c), True)\n",
        "p.set_initial_value(tank_level(a), 0)\n",
        "p.set_initial_value(tank_level(b), 0)\n",
        "p.set_initial_value(tank_level(c), 10)\n",
        "p.set_initial_value(tank_goal(a), 10)\n",
        "p.set_initial_value(tank_goal(b), 20)\n",
        "p.set_initial_value(tank_goal(c), 20)"
      ],
      "metadata": {
        "id": "1K5GfUtu0azy"
      },
      "execution_count": 17,
      "outputs": []
    },
    {
      "cell_type": "markdown",
      "source": [
        "## Goal\n",
        "\n",
        "Finally, the objective is for all the tanks to be ready, that is, to be closed once they have reached their desired level."
      ],
      "metadata": {
        "id": "26et8J6J2SJA"
      }
    },
    {
      "cell_type": "code",
      "source": [
        "p.add_goal(tank_ready(a))\n",
        "p.add_goal(tank_ready(b))\n",
        "p.add_goal(tank_ready(c))"
      ],
      "metadata": {
        "id": "2YXf1J3s2XY_"
      },
      "execution_count": 18,
      "outputs": []
    },
    {
      "cell_type": "markdown",
      "source": [
        "## Solving the problem\n",
        "\n",
        "We now select the NextFLAP planner to solve the problem we have defined and show the plan obtained."
      ],
      "metadata": {
        "id": "4C7Ip73D2wbS"
      }
    },
    {
      "cell_type": "code",
      "source": [
        "with env.factory.OneshotPlanner(name='nextflap') as planner:\n",
        "    result = planner.solve(p, timeout=60.0)\n",
        "    if result.status == PlanGenerationResultStatus.SOLVED_SATISFICING:\n",
        "        print(f'; {planner.name} found a plan!')\n",
        "        if result.plan.kind == up.plans.plan.PlanKind.PARTIAL_ORDER_PLAN:\n",
        "            seqPlan = result.plan.convert_to(up.plans.plan.PlanKind.SEQUENTIAL_PLAN, p)\n",
        "            for action in seqPlan.actions:\n",
        "                print(action)\n",
        "        else:\n",
        "            for time, action, dur in result.plan.timed_actions:\n",
        "                print(f'{time.numerator/time.denominator:.3f}: {action} [{dur.numerator/dur.denominator:.3f}]')\n",
        "    else:\n",
        "        print('No plan found!')"
      ],
      "metadata": {
        "id": "wJtij6Te3AbP"
      },
      "execution_count": null,
      "outputs": []
    }
  ]
}